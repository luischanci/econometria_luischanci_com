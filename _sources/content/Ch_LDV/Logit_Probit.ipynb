{
 "cells": [
  {
   "cell_type": "markdown",
   "id": "b7a14ca0",
   "metadata": {},
   "source": [
    "# Modelos LP, Logit y Probit"
   ]
  },
  {
   "cell_type": "markdown",
   "id": "50063664",
   "metadata": {},
   "source": [
    "Supongamos que los valores observados de la variable dependiente solo toman los siguientes valores:\n",
    "\n",
    "$$\\begin{array}{ccl}\n",
    "Y=1& & \\text{Si se cumple cierta condición}\\\\ \n",
    "Y=0& & \\text{Si no se cumple cierta condición}\\\\ \n",
    "\\end{array}$$\n",
    "\n",
    "Sea $p$ la probabilidad de que la variable tome el valor de 1. Por ende la probabilidad de $Y=1$ estará dada por $p=\\mathbb{E}(Y)$. \n",
    "\n",
    "El nombre del modelo cambia según la función que emplee para modelar la probabilidad: \n",
    "\n",
    "* Modelo de Probabilidad lineal ( _Linear Probability_ - LP ). Emplea una función lineal ( _OLS_ ).  \n",
    "* Modelo Probit. Modela la probabilidad empleando una f.d.p. normal.\n",
    "* Modelo Logit. Modela la probabilidad empleando una f.d.p. logística.\n",
    "\n",
    "Hay que considerar que la variable $Y$ al tomar solo los dos valores (0,1) sigue una distribución Bernoulli con probabilidad $p$. Es decir, $p^Y(1-p)^{(1-Y)}$. Lo anterior, sumado al supuesto de la distribución en el caso logit y probit, hace que estos dos sean modelos no lineales."
   ]
  },
  {
   "cell_type": "markdown",
   "id": "17aebf8e",
   "metadata": {},
   "source": [
    "## Modelo de Probabilidad Lineal\n",
    "\n",
    "La probabilidad se encuentra dada por $p=\\mathbb{E}(Y|X)=X\\beta$ y por ende el modelo es el de _OLS_ :\n",
    "\n",
    "$$Y=X\\beta + u$$\n"
   ]
  },
  {
   "cell_type": "markdown",
   "id": "c03372ae",
   "metadata": {},
   "source": [
    "## Modelo Probit\n",
    "\n",
    "La probabilidad $p$ se encuentra dada por $p=\\mathbb{E}(Y|X)=\\Phi(X\\beta)$, donde $\\Phi(\\cdot)$ es la función de distribución acumulada de la distribución normal estándar...\n",
    "\n",
    "\n"
   ]
  },
  {
   "cell_type": "markdown",
   "id": "bc5c3b63",
   "metadata": {},
   "source": [
    "## Modelo Logit\n",
    "\n",
    "La probabilidad $p$ se encuentra dada por la función logística $p=\\mathbb{E}(Y|X)=\\Lambda(X\\beta)=(1+exp(-X\\beta))^{-1}$.\n"
   ]
  },
  {
   "cell_type": "code",
   "execution_count": null,
   "id": "90970df0",
   "metadata": {},
   "outputs": [],
   "source": []
  }
 ],
 "metadata": {
  "kernelspec": {
   "display_name": "Python 3 (ipykernel)",
   "language": "python",
   "name": "python3"
  },
  "language_info": {
   "codemirror_mode": {
    "name": "ipython",
    "version": 3
   },
   "file_extension": ".py",
   "mimetype": "text/x-python",
   "name": "python",
   "nbconvert_exporter": "python",
   "pygments_lexer": "ipython3",
   "version": "3.9.18"
  }
 },
 "nbformat": 4,
 "nbformat_minor": 5
}
