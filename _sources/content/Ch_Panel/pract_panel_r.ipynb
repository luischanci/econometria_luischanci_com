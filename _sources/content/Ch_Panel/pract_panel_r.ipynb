{
 "cells": [
  {
   "cell_type": "markdown",
   "id": "8060d518",
   "metadata": {},
   "source": [
    "# Rincón de Práctica R\n",
    "\n",
    "## Datos Panel usando R\n"
   ]
  },
  {
   "cell_type": "markdown",
   "id": "03a0bdd5",
   "metadata": {},
   "source": [
    "### Exploración inicial"
   ]
  },
  {
   "cell_type": "code",
   "execution_count": null,
   "id": "45faf61f",
   "metadata": {
    "vscode": {
     "languageId": "r"
    }
   },
   "outputs": [
    {
     "ename": "",
     "evalue": "",
     "output_type": "error",
     "traceback": [
      "\u001b[1;31mFailed to start the Kernel. \n",
      "\u001b[1;31mView Jupyter <a href='command:jupyter.viewOutput'>log</a> for further details."
     ]
    }
   ],
   "source": [
    "# Lectura de datos y exploración inicial de la base\n",
    "\n",
    "library(foreign)\n",
    "Panel <- read.dta(\"http://dss.princeton.edu/training/Panel101.dta\") # Source: http://dss.princeton.edu/training, \n",
    "View(head(Panel,10))\n"
   ]
  },
  {
   "cell_type": "code",
   "execution_count": null,
   "id": "bdbda789",
   "metadata": {
    "vscode": {
     "languageId": "r"
    }
   },
   "outputs": [
    {
     "ename": "",
     "evalue": "",
     "output_type": "error",
     "traceback": [
      "\u001b[1;31mFailed to start the Kernel. \n",
      "\u001b[1;31mView Jupyter <a href='command:jupyter.viewOutput'>log</a> for further details."
     ]
    }
   ],
   "source": [
    "# gráficamente: diferencias entre países\n",
    "\n",
    "library(gplots)\n",
    "plotmeans(y ~ country, main=\"Heterogeneidad entre países\", data=Panel)\n"
   ]
  },
  {
   "cell_type": "code",
   "execution_count": null,
   "id": "4dc00cfe",
   "metadata": {
    "vscode": {
     "languageId": "r"
    }
   },
   "outputs": [
    {
     "ename": "",
     "evalue": "",
     "output_type": "error",
     "traceback": [
      "\u001b[1;31mFailed to start the Kernel. \n",
      "\u001b[1;31mView Jupyter <a href='command:jupyter.viewOutput'>log</a> for further details."
     ]
    }
   ],
   "source": [
    "# gráficamente: diferencias a través del tiempo\n",
    "\n",
    "library(car)\n",
    "scatterplot(y~year|country, boxplots=FALSE, smooth=TRUE, reg.line=FALSE, data=Panel)\n"
   ]
  },
  {
   "cell_type": "markdown",
   "id": "7667c738",
   "metadata": {},
   "source": [
    "### Estimación OLS\n",
    "\n",
    "$$y_{it}=\\beta_0 + \\beta_1x_{it}+u_{it}$$"
   ]
  },
  {
   "cell_type": "code",
   "execution_count": null,
   "id": "4ba68f7c",
   "metadata": {
    "vscode": {
     "languageId": "r"
    }
   },
   "outputs": [
    {
     "ename": "",
     "evalue": "",
     "output_type": "error",
     "traceback": [
      "\u001b[1;31mFailed to start the Kernel. \n",
      "\u001b[1;31mView Jupyter <a href='command:jupyter.viewOutput'>log</a> for further details."
     ]
    }
   ],
   "source": [
    "# Usando OLS notar que no es est. sig.\n",
    "\n",
    "library(pander)\n",
    "OLS <-lm(y ~ x1, data=Panel)\n",
    "panderOptions('digits',4)\n",
    "pander(OLS)\n"
   ]
  },
  {
   "cell_type": "markdown",
   "id": "bc08e63a",
   "metadata": {},
   "source": [
    "### Estimación LSDV\n",
    "\n",
    "$$y_{it}=\\sum_i\\alpha_i d_i + \\beta_1x_{it}+u_{it}$$\n",
    "lo mismo que \n",
    "$$y_{it}=\\alpha_AD_A+\\alpha_BD_B+...+\\beta_1x_{it}+u_{it}$$"
   ]
  },
  {
   "cell_type": "code",
   "execution_count": null,
   "id": "0d287640",
   "metadata": {
    "vscode": {
     "languageId": "r"
    }
   },
   "outputs": [
    {
     "ename": "",
     "evalue": "",
     "output_type": "error",
     "traceback": [
      "\u001b[1;31mFailed to start the Kernel. \n",
      "\u001b[1;31mView Jupyter <a href='command:jupyter.viewOutput'>log</a> for further details."
     ]
    }
   ],
   "source": [
    "# Usando LSDV notar que x1 es ahora est. sign.\n",
    "\n",
    "FE.D <-lm(y ~ x1 + factor(country) - 1, data = Panel)\n",
    "pander(coefficients(summary(FE.D)))"
   ]
  },
  {
   "cell_type": "markdown",
   "id": "1b04982d",
   "metadata": {},
   "source": [
    "### Estimación FE\n",
    "\n",
    "Within Estimator: regresión de $(y_{it}-\\bar{y}_i)$ sobre $(x_{it}-\\bar{x}_i)$\n"
   ]
  },
  {
   "cell_type": "code",
   "execution_count": null,
   "id": "f2d5c942",
   "metadata": {
    "vscode": {
     "languageId": "r"
    }
   },
   "outputs": [
    {
     "ename": "",
     "evalue": "",
     "output_type": "error",
     "traceback": [
      "\u001b[1;31mFailed to start the Kernel. \n",
      "\u001b[1;31mView Jupyter <a href='command:jupyter.viewOutput'>log</a> for further details."
     ]
    }
   ],
   "source": [
    "# USando FE el resultado es el mismo que LSDV \n",
    "\n",
    "library(plm)\n",
    "FE <- plm(y ~ x1, data=Panel, index=c(\"country\", \"year\"), model=\"within\")\n",
    "pander(coefficients(summary(FE)))\n"
   ]
  },
  {
   "cell_type": "code",
   "execution_count": null,
   "id": "0d46244d",
   "metadata": {
    "vscode": {
     "languageId": "r"
    }
   },
   "outputs": [
    {
     "ename": "",
     "evalue": "",
     "output_type": "error",
     "traceback": [
      "\u001b[1;31mFailed to start the Kernel. \n",
      "\u001b[1;31mView Jupyter <a href='command:jupyter.viewOutput'>log</a> for further details."
     ]
    }
   ],
   "source": []
  }
 ],
 "metadata": {
  "kernelspec": {
   "display_name": "R",
   "language": "R",
   "name": "ir"
  },
  "language_info": {
   "codemirror_mode": "r",
   "file_extension": ".r",
   "mimetype": "text/x-r-source",
   "name": "R",
   "pygments_lexer": "r",
   "version": "4.2.2"
  }
 },
 "nbformat": 4,
 "nbformat_minor": 5
}
