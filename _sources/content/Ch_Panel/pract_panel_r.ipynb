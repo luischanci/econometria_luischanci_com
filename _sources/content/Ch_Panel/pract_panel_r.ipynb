{
 "cells": [
  {
   "cell_type": "markdown",
   "id": "8060d518",
   "metadata": {},
   "source": [
    "# Rincón de Práctica R\n",
    "\n",
    "## Datos Panel usando R\n"
   ]
  },
  {
   "cell_type": "markdown",
   "id": "03a0bdd5",
   "metadata": {},
   "source": [
    "### Exploración inicial"
   ]
  },
  {
   "cell_type": "code",
   "execution_count": 1,
   "id": "45faf61f",
   "metadata": {
    "vscode": {
     "languageId": "r"
    }
   },
   "outputs": [
    {
     "data": {
      "text/html": [
       "<table class=\"dataframe\">\n",
       "<caption>A data.frame: 10 × 9</caption>\n",
       "<thead>\n",
       "\t<tr><th></th><th scope=col>country</th><th scope=col>year</th><th scope=col>y</th><th scope=col>y_bin</th><th scope=col>x1</th><th scope=col>x2</th><th scope=col>x3</th><th scope=col>opinion</th><th scope=col>op</th></tr>\n",
       "\t<tr><th></th><th scope=col>&lt;fct&gt;</th><th scope=col>&lt;int&gt;</th><th scope=col>&lt;dbl&gt;</th><th scope=col>&lt;dbl&gt;</th><th scope=col>&lt;dbl&gt;</th><th scope=col>&lt;dbl&gt;</th><th scope=col>&lt;dbl&gt;</th><th scope=col>&lt;fct&gt;</th><th scope=col>&lt;dbl&gt;</th></tr>\n",
       "</thead>\n",
       "<tbody>\n",
       "\t<tr><th scope=row>1</th><td>A</td><td>1990</td><td> 1342787840</td><td>1</td><td>0.27790365</td><td>-1.1079559</td><td> 0.28255358</td><td>Str agree</td><td>1</td></tr>\n",
       "\t<tr><th scope=row>2</th><td>A</td><td>1991</td><td>-1899660544</td><td>0</td><td>0.32068470</td><td>-0.9487200</td><td> 0.49253848</td><td>Disag    </td><td>0</td></tr>\n",
       "\t<tr><th scope=row>3</th><td>A</td><td>1992</td><td>  -11234363</td><td>0</td><td>0.36346573</td><td>-0.7894840</td><td> 0.70252335</td><td>Disag    </td><td>0</td></tr>\n",
       "\t<tr><th scope=row>4</th><td>A</td><td>1993</td><td> 2645775360</td><td>1</td><td>0.24614404</td><td>-0.8855330</td><td>-0.09439092</td><td>Disag    </td><td>0</td></tr>\n",
       "\t<tr><th scope=row>5</th><td>A</td><td>1994</td><td> 3008334848</td><td>1</td><td>0.42462304</td><td>-0.7297683</td><td> 0.94613063</td><td>Disag    </td><td>0</td></tr>\n",
       "\t<tr><th scope=row>6</th><td>A</td><td>1995</td><td> 3229574144</td><td>1</td><td>0.47721413</td><td>-0.7232460</td><td> 1.02968037</td><td>Str agree</td><td>1</td></tr>\n",
       "\t<tr><th scope=row>7</th><td>A</td><td>1996</td><td> 2756754176</td><td>1</td><td>0.49980500</td><td>-0.7815716</td><td> 1.09228814</td><td>Disag    </td><td>0</td></tr>\n",
       "\t<tr><th scope=row>8</th><td>A</td><td>1997</td><td> 2771810560</td><td>1</td><td>0.05162839</td><td>-0.7048455</td><td> 1.41590083</td><td>Str agree</td><td>1</td></tr>\n",
       "\t<tr><th scope=row>9</th><td>A</td><td>1998</td><td> 3397338880</td><td>1</td><td>0.36641079</td><td>-0.6983712</td><td> 1.54872274</td><td>Disag    </td><td>0</td></tr>\n",
       "\t<tr><th scope=row>10</th><td>A</td><td>1999</td><td>   39770336</td><td>1</td><td>0.39584252</td><td>-0.6431540</td><td> 1.79419804</td><td>Str disag</td><td>0</td></tr>\n",
       "</tbody>\n",
       "</table>\n"
      ],
      "text/latex": [
       "A data.frame: 10 × 9\n",
       "\\begin{tabular}{r|lllllllll}\n",
       "  & country & year & y & y\\_bin & x1 & x2 & x3 & opinion & op\\\\\n",
       "  & <fct> & <int> & <dbl> & <dbl> & <dbl> & <dbl> & <dbl> & <fct> & <dbl>\\\\\n",
       "\\hline\n",
       "\t1 & A & 1990 &  1342787840 & 1 & 0.27790365 & -1.1079559 &  0.28255358 & Str agree & 1\\\\\n",
       "\t2 & A & 1991 & -1899660544 & 0 & 0.32068470 & -0.9487200 &  0.49253848 & Disag     & 0\\\\\n",
       "\t3 & A & 1992 &   -11234363 & 0 & 0.36346573 & -0.7894840 &  0.70252335 & Disag     & 0\\\\\n",
       "\t4 & A & 1993 &  2645775360 & 1 & 0.24614404 & -0.8855330 & -0.09439092 & Disag     & 0\\\\\n",
       "\t5 & A & 1994 &  3008334848 & 1 & 0.42462304 & -0.7297683 &  0.94613063 & Disag     & 0\\\\\n",
       "\t6 & A & 1995 &  3229574144 & 1 & 0.47721413 & -0.7232460 &  1.02968037 & Str agree & 1\\\\\n",
       "\t7 & A & 1996 &  2756754176 & 1 & 0.49980500 & -0.7815716 &  1.09228814 & Disag     & 0\\\\\n",
       "\t8 & A & 1997 &  2771810560 & 1 & 0.05162839 & -0.7048455 &  1.41590083 & Str agree & 1\\\\\n",
       "\t9 & A & 1998 &  3397338880 & 1 & 0.36641079 & -0.6983712 &  1.54872274 & Disag     & 0\\\\\n",
       "\t10 & A & 1999 &    39770336 & 1 & 0.39584252 & -0.6431540 &  1.79419804 & Str disag & 0\\\\\n",
       "\\end{tabular}\n"
      ],
      "text/markdown": [
       "\n",
       "A data.frame: 10 × 9\n",
       "\n",
       "| <!--/--> | country &lt;fct&gt; | year &lt;int&gt; | y &lt;dbl&gt; | y_bin &lt;dbl&gt; | x1 &lt;dbl&gt; | x2 &lt;dbl&gt; | x3 &lt;dbl&gt; | opinion &lt;fct&gt; | op &lt;dbl&gt; |\n",
       "|---|---|---|---|---|---|---|---|---|---|\n",
       "| 1 | A | 1990 |  1342787840 | 1 | 0.27790365 | -1.1079559 |  0.28255358 | Str agree | 1 |\n",
       "| 2 | A | 1991 | -1899660544 | 0 | 0.32068470 | -0.9487200 |  0.49253848 | Disag     | 0 |\n",
       "| 3 | A | 1992 |   -11234363 | 0 | 0.36346573 | -0.7894840 |  0.70252335 | Disag     | 0 |\n",
       "| 4 | A | 1993 |  2645775360 | 1 | 0.24614404 | -0.8855330 | -0.09439092 | Disag     | 0 |\n",
       "| 5 | A | 1994 |  3008334848 | 1 | 0.42462304 | -0.7297683 |  0.94613063 | Disag     | 0 |\n",
       "| 6 | A | 1995 |  3229574144 | 1 | 0.47721413 | -0.7232460 |  1.02968037 | Str agree | 1 |\n",
       "| 7 | A | 1996 |  2756754176 | 1 | 0.49980500 | -0.7815716 |  1.09228814 | Disag     | 0 |\n",
       "| 8 | A | 1997 |  2771810560 | 1 | 0.05162839 | -0.7048455 |  1.41590083 | Str agree | 1 |\n",
       "| 9 | A | 1998 |  3397338880 | 1 | 0.36641079 | -0.6983712 |  1.54872274 | Disag     | 0 |\n",
       "| 10 | A | 1999 |    39770336 | 1 | 0.39584252 | -0.6431540 |  1.79419804 | Str disag | 0 |\n",
       "\n"
      ],
      "text/plain": [
       "   country year y           y_bin x1         x2         x3          opinion  \n",
       "1  A       1990  1342787840 1     0.27790365 -1.1079559  0.28255358 Str agree\n",
       "2  A       1991 -1899660544 0     0.32068470 -0.9487200  0.49253848 Disag    \n",
       "3  A       1992   -11234363 0     0.36346573 -0.7894840  0.70252335 Disag    \n",
       "4  A       1993  2645775360 1     0.24614404 -0.8855330 -0.09439092 Disag    \n",
       "5  A       1994  3008334848 1     0.42462304 -0.7297683  0.94613063 Disag    \n",
       "6  A       1995  3229574144 1     0.47721413 -0.7232460  1.02968037 Str agree\n",
       "7  A       1996  2756754176 1     0.49980500 -0.7815716  1.09228814 Disag    \n",
       "8  A       1997  2771810560 1     0.05162839 -0.7048455  1.41590083 Str agree\n",
       "9  A       1998  3397338880 1     0.36641079 -0.6983712  1.54872274 Disag    \n",
       "10 A       1999    39770336 1     0.39584252 -0.6431540  1.79419804 Str disag\n",
       "   op\n",
       "1  1 \n",
       "2  0 \n",
       "3  0 \n",
       "4  0 \n",
       "5  0 \n",
       "6  1 \n",
       "7  0 \n",
       "8  1 \n",
       "9  0 \n",
       "10 0 "
      ]
     },
     "metadata": {},
     "output_type": "display_data"
    }
   ],
   "source": [
    "# Lectura de datos y exploración inicial de la base\n",
    "options(warn=-1)\n",
    "library(foreign)\n",
    "Panel <- read.dta(\"http://dss.princeton.edu/training/Panel101.dta\") # Source: http://dss.princeton.edu/training, \n",
    "View(head(Panel,10))\n"
   ]
  },
  {
   "cell_type": "code",
   "execution_count": 2,
   "id": "4dc00cfe",
   "metadata": {
    "vscode": {
     "languageId": "r"
    }
   },
   "outputs": [
    {
     "name": "stderr",
     "output_type": "stream",
     "text": [
      "Loading required package: carData\n",
      "\n"
     ]
    },
    {
     "data": {
      "image/png": "[encoded data removed]",
      "text/plain": [
       "plot without title"
      ]
     },
     "metadata": {
      "image/png": {
       "height": 420,
       "width": 420
      }
     },
     "output_type": "display_data"
    }
   ],
   "source": [
    "# gráficamente: diferencias a través del tiempo\n",
    "\n",
    "library(car)\n",
    "scatterplot(y~year|country, boxplots=FALSE, smooth=TRUE, reg.line=FALSE, data=Panel)\n"
   ]
  },
  {
   "cell_type": "code",
   "execution_count": 3,
   "id": "bdbda789",
   "metadata": {
    "vscode": {
     "languageId": "r"
    }
   },
   "outputs": [
    {
     "name": "stderr",
     "output_type": "stream",
     "text": [
      "── \u001b[1mAttaching core tidyverse packages\u001b[22m ──────────────────────────────────────────────────────────────── tidyverse 2.0.0 ──\n",
      "\u001b[32m✔\u001b[39m \u001b[34mdplyr    \u001b[39m 1.1.3     \u001b[32m✔\u001b[39m \u001b[34mreadr    \u001b[39m 2.1.4\n",
      "\u001b[32m✔\u001b[39m \u001b[34mforcats  \u001b[39m 1.0.0     \u001b[32m✔\u001b[39m \u001b[34mstringr  \u001b[39m 1.5.0\n",
      "\u001b[32m✔\u001b[39m \u001b[34mggplot2  \u001b[39m 3.4.3     \u001b[32m✔\u001b[39m \u001b[34mtibble   \u001b[39m 3.2.1\n",
      "\u001b[32m✔\u001b[39m \u001b[34mlubridate\u001b[39m 1.9.2     \u001b[32m✔\u001b[39m \u001b[34mtidyr    \u001b[39m 1.3.0\n",
      "\u001b[32m✔\u001b[39m \u001b[34mpurrr    \u001b[39m 1.0.2     \n",
      "── \u001b[1mConflicts\u001b[22m ────────────────────────────────────────────────────────────────────────────────── tidyverse_conflicts() ──\n",
      "\u001b[31m✖\u001b[39m \u001b[34mdplyr\u001b[39m::\u001b[32mfilter()\u001b[39m masks \u001b[34mstats\u001b[39m::filter()\n",
      "\u001b[31m✖\u001b[39m \u001b[34mdplyr\u001b[39m::\u001b[32mlag()\u001b[39m    masks \u001b[34mstats\u001b[39m::lag()\n",
      "\u001b[31m✖\u001b[39m \u001b[34mdplyr\u001b[39m::\u001b[32mrecode()\u001b[39m masks \u001b[34mcar\u001b[39m::recode()\n",
      "\u001b[31m✖\u001b[39m \u001b[34mpurrr\u001b[39m::\u001b[32msome()\u001b[39m   masks \u001b[34mcar\u001b[39m::some()\n",
      "\u001b[36mℹ\u001b[39m Use the conflicted package (\u001b[3m\u001b[34m<http://conflicted.r-lib.org/>\u001b[39m\u001b[23m) to force all conflicts to become errors\n"
     ]
    },
    {
     "data": {
      "image/png": "[encoded data removed]",
      "text/plain": [
       "plot without title"
      ]
     },
     "metadata": {
      "image/png": {
       "height": 420,
       "width": 420
      }
     },
     "output_type": "display_data"
    }
   ],
   "source": [
    "# gráficamente: diferencias entre países\n",
    "\n",
    "library(tidyverse)\n",
    "ggplot(Panel|>group_by(country)|>mutate(Mean=mean(y), Sd=sd(y)) , aes(country, Mean,group=1)) + \n",
    "  geom_errorbar(aes(ymin=Mean-Sd, ymax=Mean+Sd), width=.1) +\n",
    "  geom_line() +\n",
    "  geom_point()\n"
   ]
  },
  {
   "cell_type": "markdown",
   "id": "7667c738",
   "metadata": {},
   "source": [
    "### Estimación OLS\n",
    "\n",
    "$$y_{it}=\\beta_0 + \\beta_1x_{it}+u_{it}$$"
   ]
  },
  {
   "cell_type": "code",
   "execution_count": 4,
   "id": "4ba68f7c",
   "metadata": {
    "vscode": {
     "languageId": "r"
    }
   },
   "outputs": [
    {
     "name": "stdout",
     "output_type": "stream",
     "text": [
      "\n",
      "\n",
      "|     &nbsp;      | Estimate  | Std. Error | t value | Pr(>|t|) |\n",
      "|:---------------:|:---------:|:----------:|:-------:|:--------:|\n",
      "| **(Intercept)** | 1.524e+09 | 621072624  |  2.454  | 0.01668  |\n",
      "|     **x1**      | 4.95e+08  | 778861261  | 0.6355  |  0.5272  |\n",
      "\n",
      "Table: Fitting linear model: y ~ x1\n",
      "\n"
     ]
    }
   ],
   "source": [
    "# Usando OLS notar que no es est. sig.\n",
    "\n",
    "library(pander)\n",
    "OLS <-lm(y ~ x1, data=Panel)\n",
    "panderOptions('digits',4)\n",
    "pander(OLS)\n"
   ]
  },
  {
   "cell_type": "markdown",
   "id": "bc08e63a",
   "metadata": {},
   "source": [
    "### Estimación LSDV\n",
    "\n",
    "$$y_{it}=\\sum_i\\alpha_i d_i + \\beta_1x_{it}+u_{it}$$\n",
    "lo mismo que \n",
    "$$y_{it}=\\alpha_AD_A+\\alpha_BD_B+...+\\beta_1x_{it}+u_{it}$$"
   ]
  },
  {
   "cell_type": "code",
   "execution_count": 5,
   "id": "0d287640",
   "metadata": {
    "vscode": {
     "languageId": "r"
    }
   },
   "outputs": [
    {
     "name": "stdout",
     "output_type": "stream",
     "text": [
      "\n",
      "\n",
      "|        &nbsp;        |  Estimate  | Std. Error | t value | Pr(>|t|)  |\n",
      "|:--------------------:|:----------:|:----------:|:-------:|:---------:|\n",
      "|        **x1**        | 2.476e+09  | 1.107e+09  |  2.237  |  0.02889  |\n",
      "| **factor(country)A** | 880542404  | 961807052  | 0.9155  |  0.3635   |\n",
      "| **factor(country)B** | -1.058e+09 | 1.051e+09  | -1.006  |  0.3181   |\n",
      "| **factor(country)C** | -1.723e+09 | 1.632e+09  | -1.056  |  0.2951   |\n",
      "| **factor(country)D** | 3.163e+09  | 909459150  |  3.478  | 0.0009303 |\n",
      "| **factor(country)E** | -602622000 | 1.064e+09  | -0.5662 |  0.5733   |\n",
      "| **factor(country)F** | 2.011e+09  | 1.123e+09  |  1.791  |  0.07821  |\n",
      "| **factor(country)G** | -984717493 | 1.493e+09  | -0.6597 |  0.5119   |\n",
      "\n"
     ]
    }
   ],
   "source": [
    "# Usando LSDV notar que x1 es ahora est. sign.\n",
    "\n",
    "FE.D <-lm(y ~ x1 + factor(country) - 1, data = Panel)\n",
    "pander(coefficients(summary(FE.D)))"
   ]
  },
  {
   "cell_type": "markdown",
   "id": "1b04982d",
   "metadata": {},
   "source": [
    "### Estimación FE\n",
    "\n",
    "Within Estimator: regresión de $(y_{it}-\\bar{y}_i)$ sobre $(x_{it}-\\bar{x}_i)$\n"
   ]
  },
  {
   "cell_type": "code",
   "execution_count": 6,
   "id": "f2d5c942",
   "metadata": {
    "vscode": {
     "languageId": "r"
    }
   },
   "outputs": [
    {
     "name": "stderr",
     "output_type": "stream",
     "text": [
      "\n",
      "Attaching package: 'plm'\n",
      "\n",
      "\n",
      "The following objects are masked from 'package:dplyr':\n",
      "\n",
      "    between, lag, lead\n",
      "\n",
      "\n"
     ]
    },
    {
     "name": "stdout",
     "output_type": "stream",
     "text": [
      "\n",
      "\n",
      "| &nbsp; | Estimate  | Std. Error | t-value | Pr(>|t|) |\n",
      "|:------:|:---------:|:----------:|:-------:|:--------:|\n",
      "| **x1** | 2.476e+09 | 1.107e+09  |  2.237  | 0.02889  |\n",
      "\n"
     ]
    }
   ],
   "source": [
    "# USando FE el resultado es el mismo que LSDV \n",
    "\n",
    "library(plm)\n",
    "FE <- plm(y ~ x1, data=Panel, index=c(\"country\", \"year\"), model=\"within\")\n",
    "pander(coefficients(summary(FE)))\n"
   ]
  },
  {
   "cell_type": "code",
   "execution_count": null,
   "id": "0d46244d",
   "metadata": {
    "vscode": {
     "languageId": "r"
    }
   },
   "outputs": [],
   "source": []
  }
 ],
 "metadata": {
  "kernelspec": {
   "display_name": "R",
   "language": "R",
   "name": "ir"
  },
  "language_info": {
   "codemirror_mode": "r",
   "file_extension": ".r",
   "mimetype": "text/x-r-source",
   "name": "R",
   "pygments_lexer": "r",
   "version": "4.3.1"
  }
 },
 "nbformat": 4,
 "nbformat_minor": 5
}
