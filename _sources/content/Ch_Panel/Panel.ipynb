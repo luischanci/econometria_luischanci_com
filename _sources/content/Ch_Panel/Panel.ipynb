{
 "cells": [
  {
   "cell_type": "markdown",
   "id": "a54f1ecb",
   "metadata": {
    "slideshow": {
     "slide_type": "-"
    }
   },
   "source": [
    "# Datos en Panel\n",
    "\n",
    "**Contenidos**\n",
    "\n",
    "* [Introducción](#intro)\n",
    "* [Regresión Agrupada - Pooled](#Pooled)\n",
    "* [Efectos Fijos - FE](#FE)\n",
    "* [Efectos Aleatorios - RE](#RE)\n",
    "* [Test](#Test)\n",
    "* [Panel Dinámico](#dynamic)\n"
   ]
  },
  {
   "cell_type": "markdown",
   "id": "0dc0a2f2",
   "metadata": {
    "slideshow": {
     "slide_type": "-"
    }
   },
   "source": [
    "## Introducción\n",
    "\n",
    "- Antes: Datos en formato de corte transversal o en series de tiempo.\n",
    "\n",
    "- Ahora: Varias unidades de corte transversal en differentes períodos de tiempo.\n",
    "  * Balanceado $\\{y_{it},x_{it}\\}$, para $i=1,2,...,N$ y $t=1,2,...,T$.\n",
    "  * Desbalanceado $\\{y_{it},x_{it}\\}$, para $i=1,2,...,N$ y $t=\\underline{t}_i,...,\\bar{t}_i$.\n",
    "  \n",
    "- Ejemplos de paneles:\n",
    "  * Panel Study of Income Dynamics (PSID, en EEUU)\n",
    "  * National Longitudinal Survey of Labor Market Experience (NLS, en EEUU)\n",
    "  * Encuesta Nacional Industrial Anual (ENIA, en Chile durante 1995-2007).\n"
   ]
  },
  {
   "cell_type": "markdown",
   "id": "005756a7",
   "metadata": {
    "slideshow": {
     "slide_type": "-"
    }
   },
   "source": [
    "- Algunas ventajas\n",
    "  * Permite considerar heterogeneidad individual no medible en datos (latent individual heterogeneity)\n",
    "  * facilita reduccion de problemas asociados a colinearidad\n",
    "  * mejora en eficiencia de estimadores\n",
    "  \n",
    "- Desafíos:\n",
    "  * Obtener los datos\n",
    "  * emergen dificultades cuando X's no pueden asumirse exógenas (técnicas en panel estándar son inconsistentes)\n",
    "  * dificultades si errores en unidades de corte transversal son dependientes (falla inferencia, estimadores inconsistentes)\n",
    "\n",
    "  "
   ]
  },
  {
   "cell_type": "markdown",
   "id": "7a0e6d45",
   "metadata": {
    "slideshow": {
     "slide_type": "-"
    }
   },
   "source": [
    "Organización general de la literatura (Pesaran, M.H.)\n",
    "- Small N, Large T: SURE (Zellner, 1962)\n",
    "- Small T, Large N: contexto \"más realista\" con el cual partiremos y asumiremos que las X's son exógenas\n",
    "- Large T, Large N: abarca una literatura más reciente (posible gracias a acumulación actual de información).\n",
    "\n"
   ]
  },
  {
   "cell_type": "markdown",
   "id": "33f70ff1",
   "metadata": {},
   "source": [
    "## Regresión Agrupada - Pooled OLS\n",
    "\n",
    "<html><div style='float:left'></div><hr color='#EB811B' size=1px width=720px></html>\n"
   ]
  },
  {
   "cell_type": "markdown",
   "id": "ac1a3f16",
   "metadata": {
    "slideshow": {
     "slide_type": "-"
    }
   },
   "source": [
    "### Panel con X's (estrictamente) exógenas\n",
    "\n",
    "Panel con X's (estrictamente) exógenas\n",
    "\n",
    "- Sea $y_{it}$ la i-th unidad de corte transversal en el periodo de tiempo $t$.\n",
    "- Modelo: La especificación estándar es que hay un efecto (no observado) individual (o específico) que entra al modelo lineal,\n",
    "  \n",
    "  $$y_{it}=\\alpha_i+x_{it}'\\beta+u_{it}\\hspace{0.3cm},\\hspace{0.3cm}\\forall\\,i=1,2,...,N\\,\\,;\\,t=1,2,...T$$\n",
    "  \n",
    "  donde $x_{it}$ es un vector $k\\times1$; $u_{it}$ es un residuo; $\\beta$ es un vector de parámetros; y, finalmente, $\\alpha_i$ es un efecto individual no observado (no cambia en el tiempo).\n",
    "- Dos alternativas de reescribir el modelo:\n",
    "\n",
    "  $$\\begin{eqnarray} \\underbrace{y_i}_{T\\times1}&=&\\alpha_i\\cdot i_T + x_i\\beta+u_i\\\\ ó &\\,& \\\\ \\underbrace{y_i}_{N\\times1}&=&\\alpha + x_t\\beta+u_t \\end{eqnarray}$$\n",
    "\n",
    "  donde $i_T$ es un vector $T\\times 1$ de unos; $\\alpha$ es un vector $N\\times1$ con elementos $\\alpha_i$.\n"
   ]
  },
  {
   "cell_type": "markdown",
   "id": "db47d191",
   "metadata": {
    "slideshow": {
     "slide_type": "-"
    }
   },
   "source": [
    "Panel con X's (estrictamente) exógenas\n",
    "\n",
    "- O de forma más compacta,\n",
    "  \n",
    "  $$\\begin{eqnarray*} y &=& (\\alpha\\otimes i_T) + x\\beta+u \\end{eqnarray*}$$\n",
    "  \n",
    "- Supuesto: $\\mathbb{E}(u_{it}|X_i)=0$, $\\forall\\,i,t$ (X's strictamente exógenas)\n"
   ]
  },
  {
   "cell_type": "markdown",
   "id": "37601163",
   "metadata": {
    "slideshow": {
     "slide_type": "-"
    }
   },
   "source": [
    "- Se asume $\\alpha_i=\\alpha$, $\\forall\\,i$. Es decir, $y_{it}=\\alpha+x_{it}'\\beta+u_{it}$, con $\\alpha$ como una constante (escalar).\n",
    "- Se usa MCO para la estimación:\n",
    "\n",
    "  $$\\begin{eqnarray*} \\hat{\\beta}_{OLS}=\\left(\\sum_i\\sum_t(x_{it}-\\bar{x})(x_{it}-\\bar{x})'\\right)^{-1}\\left(\\sum_i\\sum_t(x_{it}-\\bar{x})(y_{it}-\\bar{y})'\\right)\\end{eqnarray*}$$\n",
    "  \n",
    "  donde $\\bar{x}=(NT)^{-1}\\sum_{i}\\sum_{t}{x_{it}}$.\n",
    "\n"
   ]
  },
  {
   "cell_type": "markdown",
   "id": "a0cbd73b",
   "metadata": {
    "slideshow": {
     "slide_type": "-"
    }
   },
   "source": [
    "- Supuestos:\n",
    "  * $\\mathbb{E}(u_{it}|x_{it})=0$\n",
    "  * $||x_{i}||<\\kappa<\\infty$ (deterministic bounded; $||\\cdot||$: Frobenius norm)\n",
    "  * $u_{it}$ independencia en unidades de corte transversal. Pero, podría existir hereoscedasticidad, $\\sigma^2_i$, y/o autocoorelación temporal, \n",
    "    $\\mathbb{E}(u_{it}u_{it'}) = \\gamma_i(t,t')\\,\\,\\forall\\,t\\neq t'$.\n",
    "\n"
   ]
  },
  {
   "cell_type": "markdown",
   "id": "2fcfda20",
   "metadata": {
    "slideshow": {
     "slide_type": "-"
    }
   },
   "source": [
    "### Observaciones adicionales sobre Pooled OLS\n",
    "- Notar que $\\bar{y}=\\alpha+\\bar{x}'\\beta+\\bar{u}$\n",
    "- Por ende, $(y_{it}-\\bar{y})=(x_{it}-\\bar{x})'\\beta+(u_{it}-\\bar{u})$. Así, al estimar vía MCO, $\\hat{\\beta}_{OLS}=\\left(\\sum_i\\sum_t(x_{it}-\\bar{x})(x_{it}-\\bar{x})'\\right)^{-1}\\left(\\sum_i\\sum_t(x_{it}-\\bar{x})(y_{it}-\\bar{y})'\\right)$\n",
    "- Además,\n",
    "\n",
    "  $\\begin{eqnarray*} \\hat{\\beta}_{OLS}&=&\\left(\\sum_i\\sum_t(x_{it}-\\bar{x})(x_{it}-\\bar{x})'\\right)^{-1}\\left(\\sum_i\\sum_t(x_{it}-\\bar{x})(y_{it}-   \\bar{y})'\\right)\\\\ &=&\\beta+Q_{P,NT}^{-1}\\left(\\frac{\\sum_i\\sum_t(x_{it}-\\bar{x})(u_{it}-\\bar{u})}{NT}\\right) \\end{eqnarray*}$\n",
    "  \n",
    "  donde, $Q_{P,NT}=(NT)^{-1}\\sum_i\\sum_t(x_{it}-\\bar{x})(x_{it}-\\bar{x})'$\n",
    "\n"
   ]
  },
  {
   "cell_type": "markdown",
   "id": "11cf84ea",
   "metadata": {
    "slideshow": {
     "slide_type": "-"
    }
   },
   "source": [
    "### Observaciones adicionales sobre Pooled OLS (cont.)\n",
    "\n",
    "- por ende, considerando que\n",
    "\n",
    "  $$\\begin{eqnarray}\\mathbb{E}(u_{it}u_{it'})&=& \\left\\{ \\begin{array}{ccc}0&i\\neq j&\\forall\\,t,t' \\\\ \\gamma_i(t,t')&i=j& t\\neq t'\\\\ \\sigma_i^2 & i=j & t=t' \\\\ \\end{array} \\right.\\end{eqnarray}$$\n",
    "  se obtiene que\n",
    "  \n",
    "  $$\\mathbb{E}_x(\\hat{\\beta}_{OLS})=\\beta$$\n",
    "  \n"
   ]
  },
  {
   "cell_type": "markdown",
   "id": "75cc1554",
   "metadata": {},
   "source": [
    "## Efectos Fijos - Fixed Effects (FE)\n",
    "\n",
    "<html><div style='float:left'></div><hr color='#EB811B' size=1px width=720px></html>\n"
   ]
  },
  {
   "cell_type": "markdown",
   "id": "ebb873d5",
   "metadata": {
    "slideshow": {
     "slide_type": "-"
    }
   },
   "source": [
    "Assumiendo,\n",
    "- $\\alpha_i$ son parámetros fijos (a ser estimados)\n",
    "- restricción: $|\\alpha_i|<\\kappa<\\infty\\,\\,,\\,\\,\\forall\\,i$ (boundedness)\n",
    "- $\\alpha_i$ puede (en algún grado) estar relacionado con $x_{it}$ ó $u_{it}$.\n",
    "- se incluye el caso en donde $\\alpha_i$ es aleatorio (realizaciones de una distribución dada)\n",
    "- $x$ siguen siendo exógenas. Serán deterministicas y acotadas, satisfaciendo: $\\mathbb{E}||(x_{it}-\\bar{x}_{i\\cdot})(x_{jt'}-\\bar{x}_{j\\cdot})||<\\kappa<\\infty$ \n",
    "\n"
   ]
  },
  {
   "cell_type": "markdown",
   "id": "3ff1b5fd",
   "metadata": {
    "slideshow": {
     "slide_type": "-"
    }
   },
   "source": [
    "### Estimación FE\n",
    "\n",
    "- La idea general en FE es estimar $\\beta$ después de \"remover\" $\\alpha_i$. También conocido como estimador **_within_**.\n",
    "- Notar que $\\bar{y}_{i\\bullet}=\\alpha_i+\\bar{x}_{i\\bullet}'\\beta+\\bar{u}_{i\\bullet}$, con $\\bar{y}_{i\\bullet}=T^{-1}\\sum_ty_{it}$\n",
    "- Por ende, \n",
    "  $$(y_{it}-\\bar{y}_{i\\bullet})=(x_{it}-\\bar{x}_{i\\bullet})'\\beta+(u_{it}-\\bar{u}_{i\\bullet})$$\n",
    "- así, se puede usar MCO para estimar el vector de parámetros\n",
    "\n",
    "  $$\\begin{eqnarray*}\\hat{\\beta}_{FE} = \\left(\\sum_i\\sum_t(x_{it}-\\bar{x}_{i\\bullet})(x_{it}-\\bar{x}_{i\\bullet})'\\right)^{-1}\\left(\\sum_i\\sum_t(x_{it}-\\bar{x}_{i\\bullet})(y_{it}-\\bar{y}_{i\\bullet})'\\right)\\end{eqnarray*}$$\n",
    "- y, en caso de ser de interés, se puede recuperar un estimado del efecto fijo mediante: $\\hat{\\alpha}_i=\\bar{y}_{i\\bullet}-\\bar{x}_{i\\bullet}'\\hat{\\beta}_{FE}$\n"
   ]
  },
  {
   "cell_type": "markdown",
   "id": "2ff17609",
   "metadata": {
    "slideshow": {
     "slide_type": "-"
    }
   },
   "source": [
    "- Se puede escribir el estimador de forma alternativa.\n",
    "- La siguiente matrix $M$ facilita el computo de las a la media, y por ende remover el efecto individual en el modelo de regresión. Sea $M_T=I_T-(1/N)i_Ti_T'$, por ende,\n",
    "\n",
    "  $$\\begin{eqnarray*} y_i&=&\\alpha_i\\cdot i_T + x_i\\beta+u_i \\\\ M_Ty_i&=&M_T\\alpha_i\\cdot i_T + M_Tx_i\\beta+M_Tu_i \\\\ &=&M_Tx_i\\beta+M_Tu_i \\end{eqnarray*}$$\n",
    "  \n",
    "  es decir, el estimador de FE se puede escribir como\n",
    "  \n",
    "  $$\\begin{eqnarray*} \\hat{\\beta}_{FE} = \\left(\\sum_i x_i'M_Tx_i\\right)^{-1}\\left(\\sum_i x_i'M_Ty_i\\right)= Q^{-1}_{FE,NT}\\cdot\\left(\\frac{1}{NT}\\sum_i x_i'M_Ty_i\\right) \\end{eqnarray*}$$\n"
   ]
  },
  {
   "cell_type": "markdown",
   "id": "60ccb941",
   "metadata": {
    "slideshow": {
     "slide_type": "-"
    }
   },
   "source": [
    "Es decir,\n",
    "\n",
    "$$\\begin{eqnarray*} \\hat{\\beta}_{FE} &=& \\beta + Q^{-1}_{FE,NT}\\cdot\\left(\\frac{1}{NT}\\sum_i x_i'M_Tu_i\\right) \\end{eqnarray*}$$\n",
    "\n",
    "Así, bajo lo supuestos del modelo, se tiene\n",
    "\n",
    "$$\\begin{eqnarray*} \\mathbb{E}_x(\\hat{\\beta}_{FE})&=&\\beta\\\\ &\\,&\\\\ Var(\\hat{\\beta}_{FE}|X)&=&(NT)^{-1}Q^{-1}_{FE,NT}\\cdot V_{FE,NT} \\cdot Q^{-1}_{FE,NT} \\end{eqnarray*}$$\n",
    "\n",
    "donde,\n",
    "\n",
    "$$\\begin{eqnarray*} V_{FE,NT} = \\frac{1}{NT}\\sum_{i}{\\left(x_{i\\bullet}'M_T\\Gamma_iM_Tx_{i\\bullet}\\right)} = \\frac{1}{NT}\\sum_{i,t}{\\sigma^2_i(x_{it}-\\bar{x}_{i\\bullet})(x_{it}-\\bar{x}_{i\\bullet})'} + \\frac{1}{NT}\\sum_{i,t\\neq t'}{\\gamma_i(t,t')(x_{it}-\\bar{x}_{i\\bullet})(x_{it}-\\bar{x}_{i\\bullet})'} \\end{eqnarray*}$$\n"
   ]
  },
  {
   "cell_type": "markdown",
   "id": "1522fb83",
   "metadata": {
    "slideshow": {
     "slide_type": "-"
    }
   },
   "source": [
    "### Estimador FE: Condiciones para consistencia\n",
    "\n",
    "- $T$ fijo, $N\\rightarrow\\infty$: consistencia basada en los supuestos de $||x_{it}||$ acotado y $Q_{FE,NT}$ def. positiva, además de $\\mathbb{E}_x(\\hat{\\beta}_{FE})=\\beta$.\n",
    "- $(T,N)\\rightarrow\\infty$: una condición sufuciente para consistencia es $(NT)^{-2}\\sum_i\\sum_t\\sum_{t'}\\gamma_i^2(t,t')\\rightarrow0$, lo cual se satisface ya que $|\\gamma_i^2(t,t')|<\\kappa$\n",
    "- $N$ fijo, $T\\rightarrow\\infty$: $T^{-2}\\sum_t\\sum_{t'}\\gamma_i^2(t,t')\\rightarrow0$, $\\forall\\,i$ (condición usual de series de tiempo: condición de ergodicidad). Se satisface si $\\Gamma_i=(\\gamma_i(t,t'))_{T\\times T}$ tiene norma de suma fila(columna) acotada.\n"
   ]
  },
  {
   "cell_type": "markdown",
   "id": "756d5832",
   "metadata": {
    "slideshow": {
     "slide_type": "-"
    }
   },
   "source": [
    "### Estimador FE: Distribución asintótica\n",
    "\n",
    "- Si $u_{it}$ tiene distribución normal, bajo los supuestos del  modelo,\n",
    "\n",
    "  $$\\begin{eqnarray*} \\sqrt{NT}\\left( \\hat{\\beta}_{FE} - \\beta \\right)\\sim \\mathcal{N}(0,\\Omega_{FE,NT})\\end{eqnarray*}$$\n",
    "\n",
    "  donde \n",
    "  \n",
    "  $$\\begin{eqnarray*}\\Omega_{FE,NT}=Q^{-1}_{FE,NT}\\cdot V_{FE,NT} \\cdot Q^{-1}_{FE,NT}\\end{eqnarray*}$$\n",
    "  \n",
    "- Para $T$ fijo y $N\\rightarrow\\infty$:\n",
    "\n",
    "  $$\\begin{eqnarray*}\\sqrt{NT}\\left( \\hat{\\beta}_{FE} - \\beta \\right)\\rightarrow_d \\mathcal{N}(0,\\Omega_{FE,T})\\end{eqnarray*}$$\n",
    "  \n",
    "  donde $\\Omega_{FE,T}=Q^{-1}_{FE,T}\\cdot V_{FE,T} \\cdot Q^{-1}_{FE,T}$ y \n",
    "  $V_{FE,T}=plim_{N\\rightarrow\\infty}\\left(\\frac{1}{N}\\sum_i\\left(\\frac{x_i'M_T\\Gamma_iM_Tx_i}{T}\\right)\\right)$\n"
   ]
  },
  {
   "cell_type": "markdown",
   "id": "acff972d",
   "metadata": {
    "slideshow": {
     "slide_type": "-"
    }
   },
   "source": [
    "### Estimador FE y estimador LSDV\n",
    "\n",
    "- LSDV: Least Squares Dummy Variable (Estimator).\n",
    "- Notar que el modelo $y_{it}=\\alpha_i+x_{it}'\\beta+u_{it}$ podemos representarlo mediante la incorporación de variables dummy,\n",
    "\n",
    "$$\\begin{eqnarray*} \\left(\\begin{array}{c} y_1 \\\\ y_2 \\\\ \\vdots \\\\y_i \\\\ \\vdots \\\\y_N \\end{array}\\right) = \\alpha_1 \\left(\\begin{array}{c} i_T \\\\ 0_{T\\times1} \\\\ \\vdots \\\\0 \\\\ \\vdots \\\\0 \\end{array}\\right) + \\alpha_2 \\left(\\begin{array}{c} 0_{T\\times1} \\\\ i_T \\\\ \\vdots \\\\0 \\\\ \\vdots \\\\0 \\end{array}\\right) + \\ldots + \\alpha_N \\left(\\begin{array}{c} 0_{T\\times1} \\\\ 0_{T\\times1} \\\\ \\vdots \\\\0_{T\\times1} \\\\ \\vdots \\\\i_T \\end{array}\\right) + x\\beta + u \\end{eqnarray*}$$\n",
    "\n",
    "ó\n",
    "\n",
    "$$y=\\sum_i\\alpha_id_i+x\\beta+u$$\n",
    "\n"
   ]
  },
  {
   "cell_type": "markdown",
   "id": "c030b24a",
   "metadata": {
    "slideshow": {
     "slide_type": "-"
    }
   },
   "source": [
    "- Es decir, LSDV incorporar variables dummy para los effectos fijos, y luego estimar el modelo por MCO para obenter un estimador de $\\beta$. El resultado obtenido sería igual al estimador $\\hat{\\beta}_{FE}$.\n",
    "- Por eso el estimador FE también se conoce como el estimador LSDV (the Least Squares Dummy Variable Estimator).\n",
    "- Sin embargo, los efectos individuales generalmente no son parámetros de interés central (_nuisance parameters_).\n",
    "- Además, si $N$ es grande, no es computacionalmente eficiente incorporar tantas variables dummy. Adicionalmente, los erroes estándar en LSDV están basados en supuestos más fuertes.\n",
    "- En general, se recomienda usar FE y luego corregir los errores estándar mediante estimación robusta (usando, por ejemplo, la matriz HAC).\n"
   ]
  },
  {
   "cell_type": "markdown",
   "id": "78dc1e58",
   "metadata": {
    "slideshow": {
     "slide_type": "-"
    }
   },
   "source": [
    "### FE: múltiples efectos fijos\n",
    "\n",
    "**Two-way FE**\n",
    "\n",
    "- Sean los siguientes dos efectos fijos: uno asociado a la unidad $i$ y al tiempo $t$,\n",
    "\n",
    "  $$y_{it}=\\alpha_i+\\mu_t+x_{it}'\\beta+u_{it}$$\n",
    "  \n",
    "  equivalentemente,\n",
    "  \n",
    "  $$y=(\\alpha\\otimes i_T)+(i_N\\otimes\\mu) + x\\beta+u$$\n",
    "  "
   ]
  },
  {
   "cell_type": "markdown",
   "id": "1e6db1c5",
   "metadata": {
    "slideshow": {
     "slide_type": "-"
    }
   },
   "source": [
    "**Two-way FE**\n",
    "\n",
    "- Sea $P_j=i_j(i_j'i_j)i_j'$ para $j\\in{N,T}$\n",
    "- Definimos $Q$ como\n",
    "\n",
    "  $$Q=I_N\\otimes I_T - I_N\\otimes P_T - P_N\\otimes I_T + P_N\\otimes P_T$$\n",
    "  \n",
    "  tal que $Q(\\alpha\\otimes i_T)=0$, $Q(i_N\\otimes\\mu)=0$\n",
    "\n",
    "- Por ende,\n",
    "\n",
    "  $$\\begin{eqnarray*} Qy &=& Q(\\alpha\\otimes i_T)+Q(i_N\\otimes\\mu) + Qx \\beta + Qu \\\\ Qy &=& Qx\\beta+Qu \\\\ y^* &=& x^* \\beta+ u^* \\end{eqnarray*}$$\n",
    "  \n",
    "  al eliminar los efectos fijos, se puede proceder a usar MCO,\n",
    "  \n",
    "  $$\\hat{\\beta} = (x^{*'} x^*)^{-1}(x^{*'} y^{*})$$\n",
    "\n"
   ]
  },
  {
   "cell_type": "markdown",
   "id": "0f1f9c2c",
   "metadata": {
    "slideshow": {
     "slide_type": "-"
    }
   },
   "source": [
    "**Nota: High Dimensional FE**\n",
    "\n",
    "-Una nota (ilustrativa) en el caso de más de dos FE. Supongamos los siguientes datos\n",
    "\n",
    "|\ti\t|\tt\t|\tIndustria\t|\ty (salario)\t|\tx (escolaridad)\t|\n",
    "|\t---\t|\t---\t|\t---\t|\t---\t|\t---\t|\n",
    "|\t1\t|\t1\t|\t1\t|\t100\t|\t10\t|\n",
    "|\t1\t|\t2\t|\t1\t|\t105\t|\t10\t|\n",
    "|\t2\t|\t1\t|\t1\t|\t80\t|\t5\t|\n",
    "|\t2\t|\t2\t|\t2\t|\t50\t|\t5\t|\n"
   ]
  },
  {
   "cell_type": "markdown",
   "id": "1d3e104c",
   "metadata": {
    "slideshow": {
     "slide_type": "-"
    }
   },
   "source": [
    "**Nota: High Dimensional FE (cont.)**\n",
    "\n",
    "-Al incorporar variables dummy:\n",
    "\n",
    "|\ti=1\t|\ti=2\t|\tt=1\t|\tt=2\t|\tInd=1\t|\tInd=2\t|\ty (salario)\t|\tx (escolaridad)\t|\n",
    "|\t---\t|\t---\t|\t---\t|\t---\t|\t---\t|\t---\t|\t---\t|\t---\t|\n",
    "|\t1\t|\t0\t|\t1\t|\t0\t|\t1\t|\t0\t|\t100\t|\t10\t|\n",
    "|\t1\t|\t0\t|\t0\t|\t1\t|\t1\t|\t0\t|\t105\t|\t10\t|\n",
    "|\t0\t|\t1\t|\t1\t|\t0\t|\t1\t|\t0\t|\t80\t|\t5\t|\n",
    "|\t0\t|\t1\t|\t0\t|\t1\t|\t0\t|\t1\t|\t50\t|\t5\t|\n",
    "\n"
   ]
  },
  {
   "cell_type": "markdown",
   "id": "cbb3c5ab",
   "metadata": {},
   "source": [
    "- Sea $D1$ la matrix que contiene las dummy de efecto individual (las dos primeras columnas), D2 la de efectos de tiempo, y D3 la de efectos asociados a la industria. \n",
    "- Sea $P_D=D(D'D)^{-1}D'$\n",
    "- Por ende, ahora $Q$ esta dada por $Q=I-P_D$. Se puede premultiplicar el vector $y$ y la matrix $x$, para proceder con MCO (tal como en el caso de dos efectos fijos).\n",
    "- Un potencial desafío es que $(D'D)$ no es necesariamente de rango completo. Sin embargo, se puede lograr mediante algunas normalizaciones de la matrix. Les recomiendo ver el comando de Sergio Correia basado en _'spectral graph theory'_. \n"
   ]
  },
  {
   "cell_type": "markdown",
   "id": "d3aaa271",
   "metadata": {},
   "source": [
    "## Efectos Aleatorios - Random Effects (RE)\n",
    "\n",
    "<html><div style='float:left'></div><hr color='#EB811B' size=1px width=720px></html>\n"
   ]
  },
  {
   "cell_type": "markdown",
   "id": "a4a82d71",
   "metadata": {
    "slideshow": {
     "slide_type": "-"
    }
   },
   "source": [
    "$\\alpha_i$ ya no es algo fijo (determinístico), sino que es es un término aleatorio ('no observado') a modelar.\n",
    "\n",
    "- Supuestos: \n",
    "  * Sean $\\alpha_i$ realizaciones de una función de distribución de probabilidad con un número fijo de parámetros, i.i.d.\n",
    "  * Además, \n",
    "  \n",
    "    $$\\begin{eqnarray*}\\begin{array}{ccc} \\mathbb{E}(u_{it}|x_{i\\bullet},\\alpha_i)=0 & \\, & \\mathbb{E}(u_{i}u_{i}'|x_{i},\\alpha_i)=\\sigma^2\\cdot I_T \\\\ \\mathbb{E}(\\alpha_i|x_{i\\bullet})=0 & \\, & \\mathbb{E}(\\alpha_i^2 |x_{i}) = \\sigma^2_{\\alpha} \\,\\,\\,,\\,\\,\\,\\forall\\,\\,i \\\\ \\end{array}\\end{eqnarray*}$$\n"
   ]
  },
  {
   "cell_type": "markdown",
   "id": "2204eb97",
   "metadata": {
    "slideshow": {
     "slide_type": "-"
    }
   },
   "source": [
    "- Sea $\\nu_{it}=\\alpha_i+u_{it}$, tal que, \n",
    "\n",
    "  $$\\begin{eqnarray*} \\mathbb{E}(\\nu_{it}^2)&=&\\sigma^2_\\alpha + \\sigma^2 + 2Cov(\\alpha_i,u_{it})=\\sigma^2_\\alpha + \\sigma^2 \\\\ \\mathbb{E}(\\nu_{it}\\nu_{is})&=&\\mathbb{E}(\\alpha_i+u_{it})(\\alpha_i+u_{is})=\\sigma^2_\\alpha \\end{eqnarray*}$$\n",
    "  \n",
    "- Por ende,\n",
    "\n",
    "  $$\\begin{eqnarray*} \\Sigma_\\nu = \\mathbb{E}(\\nu_{i}\\nu_{i}') = (\\sigma^2_\\alpha + \\sigma^2) \\left[\\begin{array}{cccc} 1      & \\rho   & \\ldots & \\rho \\\\ \\rho   & 1      & \\ldots & \\rho \\\\ \\vdots & \\vdots & \\ddots & \\vdots \\\\ \\rho   & \\rho   & \\ldots & 1 \\\\ \\end{array}\\right]\\end{eqnarray*}$$\n",
    "  donde $\\rho=\\sigma^2_\\alpha/(\\sigma^2_\\alpha+\\sigma^2)$\n",
    "\n"
   ]
  },
  {
   "cell_type": "markdown",
   "id": "e0445f3b",
   "metadata": {},
   "source": [
    "- Estimador: GLS\n",
    "\n",
    "  $$\\hat{\\beta}_{RE}=\\left(\\sum_i x_i'\\Sigma_\\nu^{-1} x_i \\right)^{-1}\\left(\\sum_i x_i'\\Sigma_\\nu^{-1} y_i \\right)$$\n",
    "  \n",
    "- Bajo el supuesto $(NT)^{-1}\\left(\\sum_i x_i'\\Sigma_\\nu^{-1} x_i \\right)$ es no singular,\n",
    "\n",
    "  $$Var(\\hat{\\beta}_{RE})=\\left(\\sum_i x_i'\\Sigma_\\nu^{-1} x_i \\right)^{-1}$$\n"
   ]
  },
  {
   "cell_type": "markdown",
   "id": "ecac8cd7",
   "metadata": {
    "slideshow": {
     "slide_type": "-"
    }
   },
   "source": [
    "Considerando que $\\sigma^2_\\alpha$ y $\\sigma^2$ son desconocidas,\n",
    "\n",
    "1. Usando residuales del estimador within, procedimiento en dos pasos:\n",
    "   \n",
    "   $$\\begin{eqnarray*} \\hat{\\sigma}^2 &=& \\frac{1}{N(T-1)-1}\\sum_i{(y_{i\\bullet}-x_{i\\bullet}\\hat{\\beta}_{FE})'\\cdot M_T\\cdot (y_{i\\bullet}-x_{i\\bullet}\\hat{\\beta}_{FE} ) } \\\\ \\hat{\\sigma}^2_\\alpha &=& \\frac{1}{(N-T)}\\sum_i{ (\\bar{y}_i - \\bar{x}_i \\hat{\\beta}_{FE})^2 - \\frac{1}{T} \\hat{\\sigma}^2 } \\end{eqnarray*}$$\n",
    "   \n",
    "2. GLS.\n",
    "\n",
    "Considerando que no hay garantía que $\\hat{\\sigma}^2_\\alpha>0$ para T pequeño, alternativamente: $\\widetilde{\\sigma}^2_\\alpha = \\sum_i(\\hat{\\alpha}_i - \\bar{\\hat{\\alpha}})^2/(N-1)$\n"
   ]
  },
  {
   "cell_type": "markdown",
   "id": "bf4e677f",
   "metadata": {},
   "source": [
    "## Evaluando (Test) FE\n",
    "\n",
    "<html><div style='float:left'></div><hr color='#EB811B' size=1px width=720px></html>\n"
   ]
  },
  {
   "cell_type": "markdown",
   "id": "e3f8c60c",
   "metadata": {
    "slideshow": {
     "slide_type": "-"
    }
   },
   "source": [
    "### Test F\n",
    "\n",
    "- Un simple test para evaluar FE podría ser evaluar la hipótesis nula $H_0:\\,\\alpha_1=\\alpha_2=...=\\alpha_N=0$ usando un test-F (Econometría 1),\n",
    "  \n",
    "  $$F=\\frac{(RRSS-URSS)/(N-1)}{URSS/(N(T-1)-k)} \\sim F_{(N-1),N(T-1)-k}$$\n",
    "  \n",
    "  donde $RRSS$ y $URSS$ es la suma de cuadrados de los modelos restringidos y sin restringir, respectivamente.\n",
    "\n"
   ]
  },
  {
   "cell_type": "markdown",
   "id": "d6561e38",
   "metadata": {
    "slideshow": {
     "slide_type": "-"
    }
   },
   "source": [
    "### Test de Hausman\n",
    "\n",
    "- Otra alternativa más común es el **test de Hausman** (Hausman's misspecification test)). \n",
    "\n",
    "  - Idea general: Si hay dos estimadores disponibles, y sabemos que unoi es consistente y eficiente bajo $H_0$ e inconsistente bajo $H_1$, mientras que el otro estimador es consisitente bajo $H_0$ sin ser necesariamente eficiente, la idea es construir un test basado en la diferencia entre los dos estimadores.\n",
    "  \n",
    "  Sea e: eficiente, c: no eficiente pero consistente, el test es\n",
    "  $$(\\hat{\\theta}_c - \\hat{\\theta}_e)[Var(\\hat{\\theta}_c) - Var(\\hat{\\theta}_e)]^{-1}(\\hat{\\theta}_c - \\hat{\\theta}_e)$$\n",
    "  \n",
    "  el cual es consistente si $[Var(\\hat{\\theta}_c) - Var(\\hat{\\theta}_e)]$ converge a una matrix definida positiva; $(\\hat{\\theta}_c - \\hat{\\theta}_e)$ converge a un límite no cero bajo la hipótesis alternativa.\n",
    "\n"
   ]
  },
  {
   "cell_type": "markdown",
   "id": "deffba2e",
   "metadata": {
    "slideshow": {
     "slide_type": "-"
    }
   },
   "source": [
    "Aplicado al modelo para datos en panel,\n",
    "\n",
    "  - $H_0$ sería $\\mathbb{E}(\\alpha_i|x_i)=0$. \n",
    "  - Bajo $H_0$ RE alcanza la cota Cramer-Rao y bajo $H_1$ sería sesgado. En contraste, FE es consistente bajo $H_0$ y $H_1$, pero no es eficiente bajo $H_0$.\n",
    "  - El test H se puede expresar como,\n",
    "    $$H=(\\hat{\\beta}_{FE} - \\hat{\\beta}_{RE})[V(\\hat{\\beta}_{FE}) - V(\\hat{\\beta}_{RE})]^{-1}(\\hat{\\beta}_{FE} - \\hat{\\beta}_{RE})$$\n",
    "  \n",
    "    Para $N\\rightarrow\\infty$, $u_{it}$ homocedásticos y sin correlación serial,\n",
    "  \n",
    "    $$H\\sim\\chi^2_k$$\n",
    "  \n",
    "    Nota: si no se cumple condiciones para $u$, RE no es eficiente.\n"
   ]
  },
  {
   "cell_type": "markdown",
   "id": "3173bcb4",
   "metadata": {},
   "source": [
    "## Panel Dinámico\n",
    "\n",
    "<html><div style='float:left'></div><hr color='#EB811B' size=1px width=720px></html>\n"
   ]
  },
  {
   "cell_type": "markdown",
   "id": "1677a7c4",
   "metadata": {
    "slideshow": {
     "slide_type": "-"
    }
   },
   "source": [
    "Ahora la variable dependiente entra de forma rezagada, $y_{it-1}$, como regresor:\n",
    "\n",
    "  $$y_{it}=\\gamma y_{it-1} + \\alpha_i + x_{it}'\\beta + u_{it}$$\n",
    "\n",
    "- Es (trivial) mostrar que FE - estimador within, es inconsistente (emerge un problema de endogeneidad).\n",
    "- Idea general para estimación:\n",
    "  1. Primero usar primera diferencia para eliminar efecto fijo.\n",
    "  2. Usar variables instrumentales para problema de endogeneidad.\n"
   ]
  },
  {
   "cell_type": "markdown",
   "id": "2533261f",
   "metadata": {
    "slideshow": {
     "slide_type": "-"
    }
   },
   "source": [
    "### Estimación de Panel Dinámico\n",
    "\n",
    "Paso 1: Primera diferencia para eliminar $\\alpha_i$,\n",
    "\n",
    "$$\\Delta y_{it}=\\gamma\\Delta y_{it-1}+\\Delta x_{it}'\\beta+\\Delta u_{it}$$\n",
    "  \n",
    "Notar del modelo anterior que\n",
    "    \n",
    "$$\\begin{eqnarray*} \\mathbb{E}(\\Delta y_{it-1}\\cdot\\Delta u_{it}) &=& \\mathbb{E}((y_{it-1}-y_{it-2})\\cdot (u_{it}-u_{it-1})) = -\\sigma^2_u \\neq0 \\\\ &\\,& \\\\ \\mathbb{E}(\\Delta u_{it-s}\\cdot\\Delta u_{it}) &=& \\left\\{\\begin{array}{ccc} 2\\sigma^2_u & para & s=0 \\\\ -\\sigma^2_u & para & s=1 \\\\ 0 & para & s>0 \\end{array}\\right. \\end{eqnarray*}$$\n",
    "    \n",
    "  "
   ]
  },
  {
   "cell_type": "markdown",
   "id": "fe071705",
   "metadata": {
    "slideshow": {
     "slide_type": "-"
    }
   },
   "source": [
    "Paso 1: Primera diferencia para eliminar $\\alpha_i$,\n",
    "\n",
    "$$\\Delta y_{it}=\\gamma\\Delta y_{it-1}+\\Delta x_{it}'\\beta+\\Delta u_{it}$$\n",
    "  \n",
    "Notar del modelo anterior que\n",
    "    \n",
    "$$\\begin{eqnarray*} \\mathbb{E}(\\Delta y_{it-1}\\cdot\\Delta u_{it}) &=& \\mathbb{E}((y_{it-1}-y_{it-2})\\cdot (u_{it}-u_{it-1})) = -\\sigma^2_u \\neq0 \\\\ &\\,& \\\\ \\mathbb{E}(\\Delta u_{it-s}\\cdot\\Delta u_{it}) &=& \\left\\{\\begin{array}{ccc} 2\\sigma^2_u & para & s=0 \\\\ -\\sigma^2_u & para & s=1 \\\\ 0 & para & s>0 \\end{array}\\right. \\end{eqnarray*}$$\n"
   ]
  },
  {
   "cell_type": "markdown",
   "id": "e482989a",
   "metadata": {
    "slideshow": {
     "slide_type": "-"
    }
   },
   "source": [
    "Así, para $W$:\n",
    "\n",
    "- Arrellano y Bond: Uso de varios rezagos. Sea $\\Delta y_i = \\gamma\\Delta y_{i,(-1)}+\\Delta x_i\\beta+\\Delta u_{i}$, con $\\Delta y_i=(\\Delta y_{i2},...,\\Delta y_{iT})'$, por ende, para\n",
    " \n",
    "  $$\\begin{eqnarray*} W_i = \\left[\\begin{array}{cccc} y_{i1} & 0                & \\ldots  & \\rho \\\\ 0      & (y_{i1},y_{i2})  & \\ldots  & \\rho \\\\ \\vdots & \\vdots           & \\ddots  & \\vdots \\\\ 0      & 0                & \\ldots  & (y_{i1},...,y_{iT-2}) \\\\ \\end{array}\\right] \\end{eqnarray*}$$\n",
    "  \n",
    "  se tiene $$\\mathbb{E}(W_i'\\Delta u_i)=0$$\n",
    "  \n",
    "- Arellano y Bover: Para RE.\n",
    "- Blundell y Bond (GMM): Inclusión de restricciones en la distribución de $y_{i0}$\n",
    "- System-GMM: Variables en niveles pueden ser instrumentos débiles, por ende, se propone usar también variables en diferencias como instrumentos.\n"
   ]
  },
  {
   "cell_type": "code",
   "execution_count": null,
   "id": "ecc4035c",
   "metadata": {},
   "outputs": [],
   "source": []
  }
 ],
 "metadata": {
  "celltoolbar": "Slideshow",
  "kernelspec": {
   "display_name": "Julia 1.6.1",
   "language": "julia",
   "name": "julia-1.6"
  },
  "language_info": {
   "file_extension": ".jl",
   "mimetype": "application/julia",
   "name": "julia",
   "version": "1.6.1"
  }
 },
 "nbformat": 4,
 "nbformat_minor": 5
}
