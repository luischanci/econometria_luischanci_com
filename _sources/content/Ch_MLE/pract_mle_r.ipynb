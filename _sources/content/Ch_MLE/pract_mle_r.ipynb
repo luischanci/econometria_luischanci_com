{
 "cells": [
  {
   "cell_type": "markdown",
   "id": "8060d518",
   "metadata": {},
   "source": [
    "# Rincón de Práctica R\n",
    "\n",
    "## MLE usando R\n"
   ]
  },
  {
   "cell_type": "markdown",
   "id": "03a0bdd5",
   "metadata": {},
   "source": [
    "<hr>\n",
    "\n",
    "### Ejemplo 1.\n",
    "\n",
    "Sea $\\epsilon_i\\sim i.i.d.\\, N(\\mu,\\sigma^2)$. \n",
    "\n",
    "1. Planear la función log-verosimilitud.\n",
    "2. Realizar en el computador simulación de 100 datos con $\\mathbb{N}(\\mu_0,\\sigma_0^2)=\\mathbb{N}(1.7,3^2)$ y estimación ML.\n"
   ]
  },
  {
   "cell_type": "markdown",
   "id": "da2b5db3",
   "metadata": {},
   "source": [
    "**Respuesta propuesta.**\n",
    "Como vimos, la log-likelihood function estará dada por \n",
    "\n",
    "$$\\ell(\\boldsymbol{\\theta})=-\\frac{n\\cdot log(2\\pi)}{2}-\\frac{n\\cdot log(\\sigma^2)}{2}-\\sum_{i=1}^N{\\frac{(\\epsilon_i-\\mu)^2}{2\\cdot \\sigma^2}}$$\n",
    "\n",
    "Así, una propuesta a la parte computacional en R sería la siguiente:"
   ]
  },
  {
   "cell_type": "code",
   "execution_count": 11,
   "id": "0b986b9c",
   "metadata": {
    "vscode": {
     "languageId": "r"
    }
   },
   "outputs": [
    {
     "data": {
      "text/plain": [
       "   Min. 1st Qu.  Median    Mean 3rd Qu.    Max. \n",
       "-5.2275  0.2184  1.8853  1.9712  3.7755  8.2620 "
      ]
     },
     "metadata": {},
     "output_type": "display_data"
    }
   ],
   "source": [
    "# 1. Simular datos\n",
    "set.seed(123)\n",
    "\n",
    "n   <- 100\n",
    "eps <- rnorm(n, 1.7, 3)\n",
    "\n",
    "summary(eps)\n"
   ]
  },
  {
   "cell_type": "code",
   "execution_count": 17,
   "id": "7ec4148d",
   "metadata": {
    "vscode": {
     "languageId": "r"
    }
   },
   "outputs": [],
   "source": [
    "# 2. Escribir la función log-likelihood\n",
    "logL<- function(theta) {\n",
    "  mu    <- theta[1]\n",
    "  sigma <- theta[2]\n",
    "  return( sum(-log(2*pi*sigma^2)/2 - (eps-mu)^2/(2*sigma^2)) )\n",
    "}\n"
   ]
  },
  {
   "cell_type": "code",
   "execution_count": 22,
   "id": "4b87fcd6",
   "metadata": {
    "vscode": {
     "languageId": "r"
    }
   },
   "outputs": [
    {
     "data": {
      "text/plain": [
       "--------------------------------------------\n",
       "Maximum Likelihood estimation\n",
       "Newton-Raphson maximisation, 8 iterations\n",
       "Return code 8: successive function values within relative tolerance limit (reltol)\n",
       "Log-Likelihood: -242.1305 \n",
       "2  free parameters\n",
       "Estimates:\n",
       "      Estimate Std. error t value  Pr(> t)    \n",
       "mu      1.9712     0.2724   7.235 4.65e-13 ***\n",
       "sigma   2.7247     0.1925  14.151  < 2e-16 ***\n",
       "---\n",
       "Signif. codes:  0 '***' 0.001 '**' 0.01 '*' 0.05 '.' 0.1 ' ' 1\n",
       "--------------------------------------------"
      ]
     },
     "metadata": {},
     "output_type": "display_data"
    }
   ],
   "source": [
    "# 3. Optimizar la log-likelihood\n",
    "#    Se puede usar optim directamente. Sin embargo, \n",
    "#    la libreria maxLik se encarga de computos adicionales \n",
    "#    por ejemplo, de la matriz hesiana para los s.e.\n",
    "library(maxLik)\n",
    "theta.guess <- c(mu = 1, sigma = 1)\n",
    "mle         <- maxLik(logLik=logL, start=theta.guess)\n",
    "summary(mle)\n"
   ]
  },
  {
   "cell_type": "markdown",
   "id": "b87577a6",
   "metadata": {},
   "source": [
    "</br>\n",
    "<hr>\n",
    "\n",
    "### Ejemplo 2. \n",
    "\n",
    "**Bajo normalidad, MLE y OLS dan el mismo vector estimado de parámetros para el modelo lineal.** \n",
    "\n",
    "Sea,\n",
    "\n",
    "$$Y=\\boldsymbol{X}\\boldsymbol{\\beta}+u \\hspace{0.5cm};\\hspace{0.5cm}u_i\\sim N(0,\\sigma^2)$$\n",
    "\n",
    "1. Planear la función log-verosimilitud\n",
    "2. Encontrar $\\hat{\\boldsymbol{\\theta}}_{MLE}=(\\hat{\\boldsymbol{\\beta}},\\hat{\\sigma}^2)$\n",
    "3. Encontrar la matriz de información\n",
    "4. Realizar en el computador simulación de 100 datos para $y_i=\\beta_0+\\beta_1x_{1i}+\\beta_2x_{2i}+u_i$, donde $x_1\\sim U[0,10]$, $x_2\\sim\\chi^2_1$, $u_i\\sim\\mathbb{N}(0,\\sigma^2=3^2)$ y $\\boldsymbol{\\beta}'=(\\beta_0,\\beta_1,\\beta_2)'=(1,0.75,3.2)$. Realizar estimación ML de los parámetros y comparar con OLS.\n",
    "\n"
   ]
  },
  {
   "cell_type": "markdown",
   "id": "54d7ce2c",
   "metadata": {},
   "source": [
    "**Respuesta sugerida.**\n",
    "\n",
    "Como vimos, para $\\boldsymbol{x}=(1,X_1,x_2)'$ y $u_i=y_i-\\boldsymbol{x}_i'\\boldsymbol{\\beta}$ con $\\boldsymbol{\\beta}'=(\\beta_0,\\beta_1,\\beta_2)'$ se tiene que\n",
    "\n",
    "$$\\ell(\\boldsymbol{\\theta})=-\\frac{n\\cdot log(2\\pi\\sigma^2)}{2}-\\frac{(\\boldsymbol{y}-\\boldsymbol{X}\\boldsymbol{\\beta})'(\\boldsymbol{y}-\\boldsymbol{X}\\boldsymbol{\\beta})}{2\\sigma^2}$$\n",
    "\n",
    "y a partir de las condiciones de primer orden (_F.O.C._) evaluadas en el estimador ML, se obtiene: \n",
    "$$\\hat{\\boldsymbol{\\beta}}_{MLE}=(X'X)^{-1}(X'Y)\\hspace{0.5cm},\\hspace{0.5cm}\\hat{\\sigma}^2_{MLE}=(Y-X\\hat{\\beta})'(Y-X\\hat{\\beta})\\cdot n^{-1}$$ \n",
    "\n",
    "Notar que la expresión para $\\beta$ corresponde a la misma que se obtiene por OLS.\n",
    "\n",
    "Además, después de resolver, se obtiene la siguiente matriz de información\n",
    "\n",
    "$$I(\\boldsymbol{\\beta}_0)=\n",
    "\\left[\\begin{array}{cc}\n",
    "\\frac{1}{\\sigma_0^2}(X'X) & 0\\\\\n",
    "0 & \\frac{N}{2\\sigma_0^4}\n",
    "\\end{array}\\right]$$\n",
    "\n",
    "Así, una propuesta para el código de programación en R es la siguiente:"
   ]
  },
  {
   "cell_type": "code",
   "execution_count": 26,
   "id": "ad176f94",
   "metadata": {
    "vscode": {
     "languageId": "r"
    }
   },
   "outputs": [],
   "source": [
    "# 1. Simulación de datos\n",
    "n  <- 100 \n",
    "s0 <- 3;\n",
    "b0 <- c(1, 0.75, 3.2);\n",
    "\n",
    "x1 <- runif(n,0,10);\n",
    "x2 <- rchisq(n,1);\n",
    "X  <- cbind(rep(1,n) , x1 , x2);\n",
    "u  <- rnorm(n,0,s0);\n",
    "\n",
    "y  <- X%*%b0 + u"
   ]
  },
  {
   "cell_type": "code",
   "execution_count": 29,
   "id": "a8614c30",
   "metadata": {
    "vscode": {
     "languageId": "r"
    }
   },
   "outputs": [],
   "source": [
    "# 2. Escribir la función log-likelihood\n",
    "logLikFun <- function(param) {\n",
    "    sigma <- param[1]\n",
    "    b     <- param[-1]\n",
    "    mu    <- X%*%b\n",
    "    sum(dnorm(y, mean = mu, sd = sigma, log = TRUE))\n",
    "}\n"
   ]
  },
  {
   "cell_type": "code",
   "execution_count": 31,
   "id": "c3cf1e34",
   "metadata": {
    "vscode": {
     "languageId": "r"
    }
   },
   "outputs": [
    {
     "data": {
      "text/plain": [
       "--------------------------------------------\n",
       "Maximum Likelihood estimation\n",
       "Newton-Raphson maximisation, 10 iterations\n",
       "Return code 8: successive function values within relative tolerance limit (reltol)\n",
       "Log-Likelihood: -252.6117 \n",
       "4  free parameters\n",
       "Estimates:\n",
       "      Estimate Std. error t value  Pr(> t)    \n",
       "sigma   3.0258     0.2140  14.137  < 2e-16 ***\n",
       "beta1   0.7039     0.6417   1.097    0.273    \n",
       "beta2   0.8101     0.1025   7.907 2.64e-15 ***\n",
       "beta3   3.1972     0.2185  14.629  < 2e-16 ***\n",
       "---\n",
       "Signif. codes:  0 '***' 0.001 '**' 0.01 '*' 0.05 '.' 0.1 ' ' 1\n",
       "--------------------------------------------"
      ]
     },
     "metadata": {},
     "output_type": "display_data"
    },
    {
     "data": {
      "text/plain": [
       "\n",
       "Call:\n",
       "lm(formula = y ~ X - 1)\n",
       "\n",
       "Residuals:\n",
       "    Min      1Q  Median      3Q     Max \n",
       "-7.1401 -2.5676 -0.0981  2.1219  7.7896 \n",
       "\n",
       "Coefficients:\n",
       "    Estimate Std. Error t value Pr(>|t|)    \n",
       "X     0.7039     0.6528   1.078    0.284    \n",
       "Xx1   0.8101     0.1041   7.779 7.88e-12 ***\n",
       "Xx2   3.1972     0.2219  14.406  < 2e-16 ***\n",
       "---\n",
       "Signif. codes:  0 '***' 0.001 '**' 0.01 '*' 0.05 '.' 0.1 ' ' 1\n",
       "\n",
       "Residual standard error: 3.072 on 97 degrees of freedom\n",
       "Multiple R-squared:  0.9045,\tAdjusted R-squared:  0.9015 \n",
       "F-statistic: 306.1 on 3 and 97 DF,  p-value: < 2.2e-16\n"
      ]
     },
     "metadata": {},
     "output_type": "display_data"
    }
   ],
   "source": [
    "# 3. Optimizar la log-likelihood\n",
    ".guess <- c(sigma = 1, beta1 = 1, beta2 = 1, beta3=1)\n",
    "library(maxLik)\n",
    "mle     <- maxLik(logLik = logLikFun, start = .guess)\n",
    "summary(mle)\n",
    "\n",
    "\n",
    "# Comparación con OLS:\n",
    "summary(lm(y~X-1))"
   ]
  }
 ],
 "metadata": {
  "kernelspec": {
   "display_name": "R",
   "language": "R",
   "name": "ir"
  },
  "language_info": {
   "codemirror_mode": "r",
   "file_extension": ".r",
   "mimetype": "text/x-r-source",
   "name": "R",
   "pygments_lexer": "r",
   "version": "4.3.1"
  }
 },
 "nbformat": 4,
 "nbformat_minor": 5
}
