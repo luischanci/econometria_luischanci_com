{
 "cells": [
  {
   "cell_type": "markdown",
   "id": "8060d518",
   "metadata": {},
   "source": [
    "# Rincón de Práctica R\n",
    "\n",
    "## Probit/Logit usando R\n"
   ]
  },
  {
   "cell_type": "markdown",
   "id": "03a0bdd5",
   "metadata": {},
   "source": [
    "<hr>\n",
    "\n",
    "### Ejemplo 1 (Nivel usuario).\n",
    "\n",
    "Nota: El enfoque del siguiente ejemplo estará solo en ilustrar el computo de efectos marginales manualmente (no en la parte de estimación vía MLE). \n"
   ]
  },
  {
   "cell_type": "markdown",
   "id": "7d7669b2",
   "metadata": {},
   "source": [
    "1. Primero simular datos y luego  \n",
    "2. comparar resultados entre los modelos LPM, Logit y Probit. Notar que, como vimos en la teoría, no es posible realizar una comparación directa entre los coeficientes estimados de los tres modelos.\n"
   ]
  },
  {
   "cell_type": "code",
   "execution_count": 1,
   "id": "0b986b9c",
   "metadata": {
    "vscode": {
     "languageId": "r"
    }
   },
   "outputs": [
    {
     "name": "stderr",
     "output_type": "stream",
     "text": [
      "\n",
      "Please cite as: \n",
      "\n",
      "\n",
      " Hlavac, Marek (2022). stargazer: Well-Formatted Regression and Summary Statistics Tables.\n",
      "\n",
      " R package version 5.2.3. https://CRAN.R-project.org/package=stargazer \n",
      "\n",
      "\n"
     ]
    },
    {
     "name": "stdout",
     "output_type": "stream",
     "text": [
      "\n",
      "============================================================\n",
      "                              Dependent variable:           \n",
      "                    ----------------------------------------\n",
      "                                       y                    \n",
      "                             OLS           logistic  probit \n",
      "                             (1)             (2)      (3)   \n",
      "------------------------------------------------------------\n",
      "x                          0.303***        2.083*** 1.186***\n",
      "                           (0.044)         (0.447)  (0.234) \n",
      "                                                            \n",
      "Constant                   0.603***        0.683**  0.376** \n",
      "                           (0.040)         (0.269)  (0.152) \n",
      "                                                            \n",
      "------------------------------------------------------------\n",
      "Observations                 100             100      100   \n",
      "R2                          0.326                           \n",
      "Adjusted R2                 0.319                           \n",
      "Log Likelihood                             -45.679  -45.875 \n",
      "Akaike Inf. Crit.                           95.358   95.750 \n",
      "Residual Std. Error    0.400 (df = 98)                      \n",
      "F Statistic         47.369*** (df = 1; 98)                  \n",
      "============================================================\n",
      "Note:                            *p<0.1; **p<0.05; ***p<0.01\n"
     ]
    }
   ],
   "source": [
    "# 1. Simular datos\n",
    "set.seed(123)\n",
    "\n",
    "nobs <- 100\n",
    "x    <- rnorm(nobs)\n",
    "y    <- rbinom(n=nobs, size=1, prob=pnorm(x))\n",
    "\n",
    "# 1. Comparar LMP / Logit / Probit\n",
    "lpm   <- lm(y~x)\n",
    "logit <- glm(y~x, family=binomial(link=\"logit\"))\n",
    "probit<- glm(y~x, family=binomial(link=\"probit\"))\n",
    "\n",
    "library(stargazer)\n",
    "stargazer(lpm, logit, probit, type=\"text\")"
   ]
  },
  {
   "cell_type": "markdown",
   "id": "d00787ef",
   "metadata": {},
   "source": [
    "3. Empleando la media de $x$ y los resultados del logit, ilustrar el computo manual del efecto marginal: \n",
    "\n",
    "$$f_i*\\hat{\\beta}_1=f(\\hat{\\beta}_0+\\hat{\\beta}_1 x_i)*\\hat{\\beta}_1=\\frac{exp(-\\hat{\\beta}_0-\\hat{\\beta}_1 x_i)}{(1+exp(-\\hat{\\beta}_0-\\hat{\\beta}_1 x_i))^2}\\hat{\\beta}_1$$"
   ]
  },
  {
   "cell_type": "code",
   "execution_count": 22,
   "id": "4b87fcd6",
   "metadata": {
    "vscode": {
     "languageId": "r"
    }
   },
   "outputs": [
    {
     "data": {
      "text/html": [
       "<strong>(Intercept):</strong> 0.433155566019768"
      ],
      "text/latex": [
       "\\textbf{(Intercept):} 0.433155566019768"
      ],
      "text/markdown": [
       "**(Intercept):** 0.433155566019768"
      ],
      "text/plain": [
       "(Intercept) \n",
       "  0.4331556 "
      ]
     },
     "metadata": {},
     "output_type": "display_data"
    },
    {
     "data": {
      "text/plain": [
       "Call:\n",
       "logitmfx(formula = y ~ x, data = data.frame(cbind(y, x)))\n",
       "\n",
       "Marginal Effects:\n",
       "     dF/dx Std. Err.      z     P>|z|    \n",
       "x 0.433156  0.085583 5.0612 4.166e-07 ***\n",
       "---\n",
       "Signif. codes:  0 '***' 0.001 '**' 0.01 '*' 0.05 '.' 0.1 ' ' 1"
      ]
     },
     "metadata": {},
     "output_type": "display_data"
    }
   ],
   "source": [
    "# Efectos marginales\n",
    "b0   <- logit$coefficients[1]\n",
    "b1   <- logit$coefficients[2]\n",
    "xbar <- mean(x) \n",
    "\n",
    "(exp(-(b0+(b1*xbar)))/(1 +exp(-(b0+(b1*xbar))))^2)*b1 # Efecto marginal\n",
    "\n",
    "# Comparación usando mfx\n",
    "library(mfx)\n",
    "logitmfx(y~x, data=data.frame(cbind(y,x)))\n"
   ]
  },
  {
   "cell_type": "markdown",
   "id": "672d3be2",
   "metadata": {},
   "source": [
    "Es decir, como se esperaba, ambos resultados concuerdan."
   ]
  }
 ],
 "metadata": {
  "kernelspec": {
   "display_name": "R",
   "language": "R",
   "name": "ir"
  },
  "language_info": {
   "codemirror_mode": "r",
   "file_extension": ".r",
   "mimetype": "text/x-r-source",
   "name": "R",
   "pygments_lexer": "r",
   "version": "4.3.1"
  }
 },
 "nbformat": 4,
 "nbformat_minor": 5
}
