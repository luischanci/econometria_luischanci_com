{
 "cells": [
  {
   "cell_type": "markdown",
   "id": "99b6fbf9",
   "metadata": {},
   "source": [
    "# Julia\n",
    "\n",
    "Ensayando cod julia acá"
   ]
  },
  {
   "cell_type": "code",
   "execution_count": 1,
   "id": "1018dfbc",
   "metadata": {},
   "outputs": [
    {
     "data": {
      "text/plain": [
       "2×1 Matrix{Float64}:\n",
       "  7.3000000000000025\n",
       " -1.7250000000000014"
      ]
     },
     "execution_count": 1,
     "metadata": {},
     "output_type": "execute_result"
    }
   ],
   "source": [
    "using LinearAlgebra\n",
    "\n",
    "# Matrix and vectors:\n",
    "W = [0 .1 .9;1 0 0;.2 .8 0];    #SWM for NxN\n",
    "y = [2, 3, 1, .1, 9, 8];             #panel N=3 T=2\n",
    "y2= [2 1 9 3 .1 8]';             #panel N=3 T=2\n",
    "x = [[1,1,1,1,1,1]';[2,1,1,3,3,2]']';\n",
    "N = 3;\n",
    "T = 2;\n",
    "[kron(I(T),W)*y , kron(I(T),W)*y2]\n",
    "\n",
    "inv(x'*x)*(x'*y)\n",
    "inv(x'*x)*(x'*y2)\n"
   ]
  },
  {
   "cell_type": "code",
   "execution_count": null,
   "id": "e90399d4",
   "metadata": {},
   "outputs": [],
   "source": []
  }
 ],
 "metadata": {
  "kernelspec": {
   "display_name": "Julia 1.6.1",
   "language": "julia",
   "name": "julia-1.6"
  },
  "language_info": {
   "file_extension": ".jl",
   "mimetype": "application/julia",
   "name": "julia",
   "version": "1.6.1"
  }
 },
 "nbformat": 4,
 "nbformat_minor": 5
}
